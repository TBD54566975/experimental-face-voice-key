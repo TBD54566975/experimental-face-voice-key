{
  "nbformat": 4,
  "nbformat_minor": 0,
  "metadata": {
    "colab": {
      "provenance": []
    },
    "kernelspec": {
      "name": "python3",
      "display_name": "Python 3"
    },
    "language_info": {
      "name": "python"
    }
  },
  "cells": [
    {
      "cell_type": "markdown",
      "source": [
        "Using voiceprint + secret spoken phrase (which is used for both voice print and text) we can make a private key unique to you and deterministic."
      ],
      "metadata": {
        "id": "6A6C9uM-W_EW"
      }
    },
    {
      "cell_type": "code",
      "execution_count": 22,
      "metadata": {
        "colab": {
          "base_uri": "https://localhost:8080/"
        },
        "id": "Ax9QFGcbW44P",
        "outputId": "e0d774a8-9e09-4573-ea53-140b02dd8504"
      },
      "outputs": [
        {
          "output_type": "stream",
          "name": "stdout",
          "text": [
            "Looking in indexes: https://pypi.org/simple, https://us-python.pkg.dev/colab-wheels/public/simple/\n",
            "Requirement already satisfied: deterministic-rsa-keygen in /usr/local/lib/python3.8/dist-packages (0.0.1)\n",
            "Requirement already satisfied: mtcnn in /usr/local/lib/python3.8/dist-packages (0.1.1)\n",
            "Requirement already satisfied: matplotlib in /usr/local/lib/python3.8/dist-packages (3.2.2)\n",
            "Requirement already satisfied: scipy in /usr/local/lib/python3.8/dist-packages (1.7.3)\n",
            "Requirement already satisfied: librosa in /usr/local/lib/python3.8/dist-packages (0.8.1)\n",
            "Requirement already satisfied: numpy in /usr/local/lib/python3.8/dist-packages (1.21.6)\n",
            "Requirement already satisfied: pocketsphinx in /usr/local/lib/python3.8/dist-packages (5.0.0)\n",
            "Requirement already satisfied: SpeechRecognition in /usr/local/lib/python3.8/dist-packages (3.9.0)\n",
            "Requirement already satisfied: pydub in /usr/local/lib/python3.8/dist-packages (0.25.1)\n",
            "Requirement already satisfied: pycryptodome>=3.10 in /usr/local/lib/python3.8/dist-packages (from deterministic-rsa-keygen) (3.16.0)\n",
            "Requirement already satisfied: opencv-python>=4.1.0 in /usr/local/lib/python3.8/dist-packages (from mtcnn) (4.6.0.66)\n",
            "Requirement already satisfied: keras>=2.0.0 in /usr/local/lib/python3.8/dist-packages (from mtcnn) (2.9.0)\n",
            "Requirement already satisfied: python-dateutil>=2.1 in /usr/local/lib/python3.8/dist-packages (from matplotlib) (2.8.2)\n",
            "Requirement already satisfied: kiwisolver>=1.0.1 in /usr/local/lib/python3.8/dist-packages (from matplotlib) (1.4.4)\n",
            "Requirement already satisfied: cycler>=0.10 in /usr/local/lib/python3.8/dist-packages (from matplotlib) (0.11.0)\n",
            "Requirement already satisfied: pyparsing!=2.0.4,!=2.1.2,!=2.1.6,>=2.0.1 in /usr/local/lib/python3.8/dist-packages (from matplotlib) (3.0.9)\n",
            "Requirement already satisfied: scikit-learn!=0.19.0,>=0.14.0 in /usr/local/lib/python3.8/dist-packages (from librosa) (1.0.2)\n",
            "Requirement already satisfied: decorator>=3.0.0 in /usr/local/lib/python3.8/dist-packages (from librosa) (4.4.2)\n",
            "Requirement already satisfied: packaging>=20.0 in /usr/local/lib/python3.8/dist-packages (from librosa) (21.3)\n",
            "Requirement already satisfied: soundfile>=0.10.2 in /usr/local/lib/python3.8/dist-packages (from librosa) (0.11.0)\n",
            "Requirement already satisfied: numba>=0.43.0 in /usr/local/lib/python3.8/dist-packages (from librosa) (0.56.4)\n",
            "Requirement already satisfied: resampy>=0.2.2 in /usr/local/lib/python3.8/dist-packages (from librosa) (0.4.2)\n",
            "Requirement already satisfied: audioread>=2.0.0 in /usr/local/lib/python3.8/dist-packages (from librosa) (3.0.0)\n",
            "Requirement already satisfied: pooch>=1.0 in /usr/local/lib/python3.8/dist-packages (from librosa) (1.6.0)\n",
            "Requirement already satisfied: joblib>=0.14 in /usr/local/lib/python3.8/dist-packages (from librosa) (1.2.0)\n",
            "Requirement already satisfied: sounddevice in /usr/local/lib/python3.8/dist-packages (from pocketsphinx) (0.4.5)\n",
            "Requirement already satisfied: requests>=2.26.0 in /usr/local/lib/python3.8/dist-packages (from SpeechRecognition) (2.28.2)\n",
            "Requirement already satisfied: importlib-metadata in /usr/local/lib/python3.8/dist-packages (from numba>=0.43.0->librosa) (6.0.0)\n",
            "Requirement already satisfied: llvmlite<0.40,>=0.39.0dev0 in /usr/local/lib/python3.8/dist-packages (from numba>=0.43.0->librosa) (0.39.1)\n",
            "Requirement already satisfied: setuptools in /usr/local/lib/python3.8/dist-packages (from numba>=0.43.0->librosa) (57.4.0)\n",
            "Requirement already satisfied: appdirs>=1.3.0 in /usr/local/lib/python3.8/dist-packages (from pooch>=1.0->librosa) (1.4.4)\n",
            "Requirement already satisfied: six>=1.5 in /usr/local/lib/python3.8/dist-packages (from python-dateutil>=2.1->matplotlib) (1.15.0)\n",
            "Requirement already satisfied: urllib3<1.27,>=1.21.1 in /usr/local/lib/python3.8/dist-packages (from requests>=2.26.0->SpeechRecognition) (1.24.3)\n",
            "Requirement already satisfied: charset-normalizer<4,>=2 in /usr/local/lib/python3.8/dist-packages (from requests>=2.26.0->SpeechRecognition) (2.1.1)\n",
            "Requirement already satisfied: idna<4,>=2.5 in /usr/local/lib/python3.8/dist-packages (from requests>=2.26.0->SpeechRecognition) (2.10)\n",
            "Requirement already satisfied: certifi>=2017.4.17 in /usr/local/lib/python3.8/dist-packages (from requests>=2.26.0->SpeechRecognition) (2022.12.7)\n",
            "Requirement already satisfied: threadpoolctl>=2.0.0 in /usr/local/lib/python3.8/dist-packages (from scikit-learn!=0.19.0,>=0.14.0->librosa) (3.1.0)\n",
            "Requirement already satisfied: cffi>=1.0 in /usr/local/lib/python3.8/dist-packages (from soundfile>=0.10.2->librosa) (1.15.1)\n",
            "Requirement already satisfied: pycparser in /usr/local/lib/python3.8/dist-packages (from cffi>=1.0->soundfile>=0.10.2->librosa) (2.21)\n",
            "Requirement already satisfied: zipp>=0.5 in /usr/local/lib/python3.8/dist-packages (from importlib-metadata->numba>=0.43.0->librosa) (3.11.0)\n"
          ]
        }
      ],
      "source": [
        "!pip install deterministic-rsa-keygen mtcnn matplotlib scipy librosa numpy pocketsphinx SpeechRecognition pydub\n",
        "\n",
        "import urllib.request\n",
        "data_dir=\"https://raw.githubusercontent.com/TBD54566975/experimental-face-voice-key/main/data\"\n",
        "def download_file(filename):\n",
        "    urllib.request.urlretrieve(data_dir + \"/\" + filename, filename)\n",
        "\n",
        "download_file(\"test1.jpg\")\n",
        "download_file(\"test2.jpg\")\n",
        "download_file(\"voice_mic1.m4a\")\n",
        "download_file(\"voice_mic2.m4a\")\n",
        "download_file(\"voice_mic3.m4a\")\n",
        "\n",
        "download_file(\"voice_mic4.m4a\")\n",
        "download_file(\"voice_jo1.m4a\")\n",
        "download_file(\"oli_mic1.m4a\")\n",
        "download_file(\"oli_mic2.m4a\")\n"
      ]
    },
    {
      "cell_type": "markdown",
      "source": [
        "# Voice print\n",
        "\n",
        "Everyone in the world can have a reasonably unique voice print which is hard to spoof, especially if combined with a secret phrase. librosa provides some simple utilities to calculate this. Using https://en.wikipedia.org/wiki/Linear_predictive_coding to provide utterance tolerant fingerprint (not secure enough to be non replayable - needs to be combined with a spoken secret)"
      ],
      "metadata": {
        "id": "b-nXvo0lu-1C"
      }
    },
    {
      "cell_type": "code",
      "source": [
        "import librosa\n",
        "import numpy as np\n",
        "\n",
        "def calculate_voiceprint(audio_file, num_coeffs=200):\n",
        "\n",
        "\n",
        "  # Calculate the linear predictive coefficients (LPCs) for the audio signal\n",
        "  audio, sr = librosa.load(audio_file)\n",
        "  lpcs = librosa.lpc(audio, num_coeffs)\n",
        "\n",
        "  def round_vector(vector, precision):\n",
        "    rounded_vector = []\n",
        "    for i in range(len(vector)):\n",
        "      element = vector[i]\n",
        "      rounded_element = round(element / precision) * precision\n",
        "      rounded_vector.append(rounded_element)\n",
        "      precision += 0.2  # Increase precision by a small amount after each iteration, so we are less sensitive to future predictions\n",
        "    return rounded_vector\n",
        "  \n",
        "  return round_vector(lpcs, 0.5)[:6]\n"
      ],
      "metadata": {
        "id": "hh83RXIYxP_c"
      },
      "execution_count": 23,
      "outputs": []
    },
    {
      "cell_type": "markdown",
      "source": [
        "Lets try it out on a few voice files\n",
        "\n"
      ],
      "metadata": {
        "id": "5J6FaSBJICVT"
      }
    },
    {
      "cell_type": "code",
      "source": [
        "\n",
        "mic1 = calculate_voiceprint(\"voice_mic1.m4a\")\n",
        "mic2 = calculate_voiceprint(\"voice_mic2.m4a\")\n",
        "\n",
        "mic3  = calculate_voiceprint(\"voice_mic3.m4a\")\n",
        "oli_mic1 = calculate_voiceprint(\"oli_mic1.m4a\")\n",
        "oli_mic2 = calculate_voiceprint(\"oli_mic2.m4a\")\n",
        "\n",
        "not_mic = calculate_voiceprint(\"voice_mic4.m4a\")\n",
        "\n",
        "jo = calculate_voiceprint(\"voice_jo1.m4a\")\n",
        "\n",
        "print(\"                    mic1\", mic1)\n",
        "print(\"                    mic2\", mic2)\n",
        "print(\"                    mic3\", mic3)\n",
        "print(\"Mic but different phrase\", not_mic)\n",
        "print(\"  Oli speaking like mic1\", oli_mic1)\n",
        "print(\"  Oli speaking like mic2\", oli_mic2)\n",
        "print(\"                      jo\", jo)\n"
      ],
      "metadata": {
        "colab": {
          "base_uri": "https://localhost:8080/"
        },
        "id": "joVemX5YIE3z",
        "outputId": "6843f140-8ab0-4254-93e9-f4c1765d93a5"
      },
      "execution_count": 24,
      "outputs": [
        {
          "output_type": "stream",
          "name": "stderr",
          "text": [
            "/usr/local/lib/python3.8/dist-packages/librosa/core/audio.py:165: UserWarning: PySoundFile failed. Trying audioread instead.\n",
            "  warnings.warn(\"PySoundFile failed. Trying audioread instead.\")\n",
            "/usr/local/lib/python3.8/dist-packages/librosa/core/audio.py:165: UserWarning: PySoundFile failed. Trying audioread instead.\n",
            "  warnings.warn(\"PySoundFile failed. Trying audioread instead.\")\n",
            "/usr/local/lib/python3.8/dist-packages/librosa/core/audio.py:165: UserWarning: PySoundFile failed. Trying audioread instead.\n",
            "  warnings.warn(\"PySoundFile failed. Trying audioread instead.\")\n",
            "/usr/local/lib/python3.8/dist-packages/librosa/core/audio.py:165: UserWarning: PySoundFile failed. Trying audioread instead.\n",
            "  warnings.warn(\"PySoundFile failed. Trying audioread instead.\")\n",
            "/usr/local/lib/python3.8/dist-packages/librosa/core/audio.py:165: UserWarning: PySoundFile failed. Trying audioread instead.\n",
            "  warnings.warn(\"PySoundFile failed. Trying audioread instead.\")\n",
            "/usr/local/lib/python3.8/dist-packages/librosa/core/audio.py:165: UserWarning: PySoundFile failed. Trying audioread instead.\n",
            "  warnings.warn(\"PySoundFile failed. Trying audioread instead.\")\n",
            "/usr/local/lib/python3.8/dist-packages/librosa/core/audio.py:165: UserWarning: PySoundFile failed. Trying audioread instead.\n",
            "  warnings.warn(\"PySoundFile failed. Trying audioread instead.\")\n"
          ]
        },
        {
          "output_type": "stream",
          "name": "stdout",
          "text": [
            "                    mic1 [1.0, -2.0999999999999996, 2.6999999999999997, -3.3, 5.199999999999999, -5.999999999999999]\n",
            "                    mic2 [1.0, -2.0999999999999996, 2.6999999999999997, -3.3, 5.199999999999999, -5.999999999999999]\n",
            "                    mic3 [1.0, -2.0999999999999996, 2.6999999999999997, -3.3, 5.199999999999999, -5.999999999999999]\n",
            "Mic but different phrase [1.0, -1.4, 1.7999999999999998, -2.1999999999999997, 2.5999999999999996, -2.9999999999999996]\n",
            "  Oli speaking like mic1 [1.0, -2.0999999999999996, 1.7999999999999998, -2.1999999999999997, 2.5999999999999996, -2.9999999999999996]\n",
            "  Oli speaking like mic2 [1.0, -1.4, 0.8999999999999999, -1.0999999999999999, 1.2999999999999998, -2.9999999999999996]\n",
            "                      jo [1.0, -2.0999999999999996, 2.6999999999999997, -4.3999999999999995, 5.199999999999999, -7.499999999999999]\n"
          ]
        }
      ]
    },
    {
      "cell_type": "markdown",
      "source": [
        "# Voice to text\n",
        "\n",
        "Here is some rudimentary voice to text to provide some extra signal"
      ],
      "metadata": {
        "id": "z-ABRjc0x_V6"
      }
    },
    {
      "cell_type": "code",
      "source": [
        "def voice_text(audio_file):\n",
        "  import speech_recognition as sr\n",
        "  from pydub import AudioSegment\n",
        "\n",
        "  audio = AudioSegment.from_file(audio_file, format=\"m4a\")\n",
        "  raw_data = audio.raw_data\n",
        "  audio_data = sr.AudioData(raw_data, audio.frame_rate, audio.sample_width)\n",
        "\n",
        "\n",
        "  r = sr.Recognizer()\n",
        "  text = r.recognize_sphinx(audio_data)\n",
        "  print(\"text detected: \" + text)\n",
        "  return text"
      ],
      "metadata": {
        "id": "0CD34y4DyIAk"
      },
      "execution_count": 25,
      "outputs": []
    },
    {
      "cell_type": "markdown",
      "source": [
        "# Combine into deterministic seed"
      ],
      "metadata": {
        "id": "ZyDU6PYlySVK"
      }
    },
    {
      "cell_type": "code",
      "source": [
        "def make_seed(voice_file):\n",
        "  return str(calculate_voiceprint(voice_file)) #+ voice_text(voice_file)"
      ],
      "metadata": {
        "id": "IaZ7SHYfyWwV"
      },
      "execution_count": 31,
      "outputs": []
    },
    {
      "cell_type": "markdown",
      "source": [
        "# Encrypt with *voice*\n",
        "\n",
        "Use the determinisic seed to create a private key"
      ],
      "metadata": {
        "id": "N7NPN0R70LeM"
      }
    },
    {
      "cell_type": "code",
      "source": [
        "from rsa import generate_key, encrypt, decrypt\n",
        "\n",
        "secret_key = generate_key(make_seed(\"voice_mic1.m4a\"))\n",
        "\n",
        "public_key = secret_key.publickey().exportKey(\"PEM\")\n",
        "\n",
        "# eg round trip:\n",
        "secret = encrypt(\"Hello World using voice as key\", public_key)\n",
        "\n",
        "print(secret)\n"
      ],
      "metadata": {
        "colab": {
          "base_uri": "https://localhost:8080/"
        },
        "id": "2rQwz3940OC2",
        "outputId": "fbd48e82-1f37-40a9-ecce-eb136a3373cb"
      },
      "execution_count": 32,
      "outputs": [
        {
          "output_type": "stream",
          "name": "stderr",
          "text": [
            "/usr/local/lib/python3.8/dist-packages/librosa/core/audio.py:165: UserWarning: PySoundFile failed. Trying audioread instead.\n",
            "  warnings.warn(\"PySoundFile failed. Trying audioread instead.\")\n"
          ]
        },
        {
          "output_type": "stream",
          "name": "stdout",
          "text": [
            "b'OV2M0Phe4wLRShsWbDdHUYkjf6f/JWXZwpXRD4hR3PnUpwcZiGFVUwLmyeaPFyQlVKcG7QFl/8x1Tnm5TJGrn/4P+TwWHLEehbkImomyeOXjjUf/2XLJQU/47ova97eqw9xRKC1Ac68L9pB6okPMcu/Zu1KrOCscCtYPO+SPcYFKcyVxO37nflY4+Xj32BvDoK04ks6jOiSZFRQ9MwbAI3dc1p5aaqxfJma9MQhwm8XNLQBhvKOMwp+YcGTlrmO26q5C0hbr+ZK76FiPNV5WQ/4szVsM/lnN1yPMoDr07SIbP4v0+fcwWpqfrrF0DV61PAMPZvfvW641wjv9OVXcfA=='\n"
          ]
        }
      ]
    },
    {
      "cell_type": "markdown",
      "source": [
        "Now will use a different photo and voice to ensure we can make the same key and then decrypt"
      ],
      "metadata": {
        "id": "8FE6Z1oC3i8U"
      }
    },
    {
      "cell_type": "code",
      "source": [
        "\n",
        "# using the other photo we can make the same key\n",
        "secret_key = generate_key(make_seed(\"voice_mic2.m4a\"))\n",
        "\n",
        "private_key = secret_key.exportKey(\"PEM\")\n",
        "\n",
        "# and we get the secret back (and can use alternative audio if we are clear enough)\n",
        "decrypt(secret, private_key)\n",
        "\n"
      ],
      "metadata": {
        "colab": {
          "base_uri": "https://localhost:8080/"
        },
        "id": "2m6ptAmY3m70",
        "outputId": "1cf26c75-5513-4d64-e0da-1ea960d1d020"
      },
      "execution_count": 33,
      "outputs": [
        {
          "output_type": "stream",
          "name": "stderr",
          "text": [
            "/usr/local/lib/python3.8/dist-packages/librosa/core/audio.py:165: UserWarning: PySoundFile failed. Trying audioread instead.\n",
            "  warnings.warn(\"PySoundFile failed. Trying audioread instead.\")\n"
          ]
        },
        {
          "output_type": "execute_result",
          "data": {
            "text/plain": [
              "b'Hello World using voice as key'"
            ]
          },
          "metadata": {},
          "execution_count": 33
        }
      ]
    }
  ]
}